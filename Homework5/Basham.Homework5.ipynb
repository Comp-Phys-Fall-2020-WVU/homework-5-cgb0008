{
 "cells": [
  {
   "cell_type": "markdown",
   "metadata": {},
   "source": [
    "# Week Five: Integration and differentiation\n",
    "\n",
    "To be graded, your notebook must be runnable start to finish. If you can't make an in-notebook test pass, comment it out for to attempt to get partial credit. You should replace the `...` markers with your code. Do not change the names of the pre-defined ALL_CAPS variables and functions. (If you start from scratch, make sure you match the requested function names and requested ALL_CAPS variables). Other that that, you are free to define or make anything you wish. Remember that functions will often be tested with different numbers than the ones you are given."
   ]
  },
  {
   "cell_type": "code",
   "execution_count": 1,
   "metadata": {},
   "outputs": [],
   "source": [
    "# EID is your 6+2 UC Electronic ID\n",
    "EID = '800226177'\n",
    "NAME = 'Christopher Basham'"
   ]
  },
  {
   "cell_type": "code",
   "execution_count": 2,
   "metadata": {},
   "outputs": [],
   "source": [
    "%matplotlib inline\n",
    "import numpy as np\n",
    "import matplotlib.pyplot as plt"
   ]
  },
  {
   "cell_type": "markdown",
   "metadata": {},
   "source": [
    "# Problem 1: 2D Trapezoidal rule\n",
    "\n",
    "You can extend the trapezoidal rule to 2D. I'll give you a few hints:\n",
    "\n",
    "The weight matrix is:\n",
    "$$\n",
    "W_{ij} = \\begin{matrix}\n",
    "1 & 2 & 2 & \\cdots & 2 & 2 & 1 \\\\\n",
    "2 & 4 & 4 & \\cdots & 4 & 4 & 2 \\\\\n",
    "2 & 4 & 4 & \\cdots & 4 & 4 & 2 \\\\\n",
    "\\vdots & \\vdots & \\vdots & \\ddots & \\vdots & \\vdots & \\vdots \\\\\n",
    "2 & 4 & 4 & \\cdots & 4 & 4 & 2 \\\\\n",
    "2 & 4 & 4 & \\cdots & 4 & 4 & 2 \\\\\n",
    "1 & 2 & 2 & \\cdots & 2 & 2 & 1\n",
    "\\end{matrix}\n",
    "$$\n",
    "\n",
    "If you use the trick I used in the slides instead of explicitly creating this matrix, you would split the sum into 4 parts. However, it's really quite easy to make the matrix above\n",
    "\n",
    "The \"bin\" width $h$ is joined by the 2nd dimension bin width of $k$, and then the trapezoidal rule integral value is \n",
    "\n",
    "$$\n",
    "I_\\mathrm{tr} = \\frac{1}{4} h k \\sum_i \\sum_j W_{ij} f(x_{i}, y_{j})\n",
    "$$"
   ]
  },
  {
   "cell_type": "markdown",
   "metadata": {},
   "source": [
    "Write a function that takes a 2-parameter function 'f' and integrates it with the given parameters (further explanations are built into the docstring of the function). I'm writing a Numpy-style docstring.\n",
    "\n",
    "See also: <http://mathfaculty.fullerton.edu/mathews/n2003/SimpsonsRule2DMod.html>"
   ]
  },
  {
   "cell_type": "code",
   "execution_count": 175,
   "metadata": {},
   "outputs": [],
   "source": [
    "def trap_2d(f, xrange, yrange, xN, yN):\n",
    "    '''Integrate a 2D function with the trapezoidal rule.\n",
    "    \n",
    "    This takes a 2D function and integrates it over a 2D grid.\n",
    "    This uses the Trapezoidal rule in 2D.\n",
    "    \n",
    "    Parameters\n",
    "    ----------\n",
    "    f : callable\n",
    "        The function to integrate. The function should take an x and y value (possibly arrays).\n",
    "    xrange : (float, float)\n",
    "        The min and max values for x, as an array\n",
    "    yrange : (float, float)\n",
    "        The min and max values for y, as an array\n",
    "    xN : int\n",
    "        The number of evaluations along x\n",
    "    yN : int\n",
    "        The number of evaluations along y\n",
    "\n",
    "    Returns\n",
    "    -------\n",
    "    float\n",
    "        The total integral\n",
    "    \n",
    "    '''\n",
    "    # If these are *not* arrays, convert them into arrays. Otherwise, leave them alone.\n",
    "    # (If we used np.array, we'd needlessly make a copy if it aready was an array)\n",
    "    xrange = np.asarray(xrange)\n",
    "    yrange = np.asarray(yrange)\n",
    "    \n",
    "    # There are N-1 \"bins\"\n",
    "    h = (xrange[1] - xrange[0])/(xN-1)\n",
    "    k = (yrange[1] - yrange[0])/(yN-1)\n",
    "    \n",
    "    #Array of x and y values evenly spaced between ranges.\n",
    "    xi = np.arange(xrange[0],xrange[1]+h,h)\n",
    "    yj = np.arange(yrange[0],yrange[1]+k,k)\n",
    "\n",
    "    #Weight Matrix (Creates an (xN x yN) matrix for the N-1 \"bins\")\n",
    "    W_ij = np.zeros((xN,yN))\n",
    "    for i in range(0,xN):\n",
    "        for j in range(0,yN):\n",
    "            if (i,j) == (0,0) or (i,j) == (0,yN-1) or (i,j) == (xN-1,0) or (i,j) == (xN-1,yN-1):\n",
    "                W_ij[i,j] = 1\n",
    "            elif i == 0 or i == xN-1 or j == 0 or j == yN-1:\n",
    "                W_ij[i,j] = 2\n",
    "            else:\n",
    "                W_ij[i,j] = 4\n",
    "    print(W_ij)\n",
    "\n",
    "    #Double Summation\n",
    "    summ = np.sum(W_ij[i,j] * f(xi[i],yj[j]) for i in range(0,xN) for j in range(0,yN))\n",
    "\n",
    "    #Final Area\n",
    "    print(h,k,summ)\n",
    "    A = 1/4 * h * k * summ\n",
    "\n",
    "    return(A)"
   ]
  },
  {
   "cell_type": "markdown",
   "metadata": {},
   "source": [
    "Feel free to add more tests, I'm adding the simplest one I can think of:"
   ]
  },
  {
   "cell_type": "code",
   "execution_count": 176,
   "metadata": {},
   "outputs": [],
   "source": [
    "def f(x,y):\n",
    "    return 1"
   ]
  },
  {
   "cell_type": "code",
   "execution_count": 177,
   "metadata": {
    "tags": []
   },
   "outputs": [
    {
     "output_type": "stream",
     "name": "stdout",
     "text": "[[1. 2. 2. 2. 2. 2. 2. 2. 2. 1.]\n [2. 4. 4. 4. 4. 4. 4. 4. 4. 2.]\n [2. 4. 4. 4. 4. 4. 4. 4. 4. 2.]\n [2. 4. 4. 4. 4. 4. 4. 4. 4. 2.]\n [2. 4. 4. 4. 4. 4. 4. 4. 4. 2.]\n [2. 4. 4. 4. 4. 4. 4. 4. 4. 2.]\n [2. 4. 4. 4. 4. 4. 4. 4. 4. 2.]\n [2. 4. 4. 4. 4. 4. 4. 4. 4. 2.]\n [2. 4. 4. 4. 4. 4. 4. 4. 4. 2.]\n [1. 2. 2. 2. 2. 2. 2. 2. 2. 1.]]\n1.1111111111111112 1.1111111111111112 324.0\n100.00000000000001\n"
    }
   ],
   "source": [
    "area = trap_2d(f, [0, 10], [0, 10], 10, 10)\n",
    "print(area)\n",
    "assert np.isclose(area, 100)"
   ]
  },
  {
   "cell_type": "markdown",
   "metadata": {},
   "source": [
    "# Problem 2: MC integration\n",
    "\n",
    "Write a function that performs MC integration of an unknown function of N dimensions. You can use `f(*array)` to call the function with the correct number of arguments (it expands to `f(array[0], array[1], ..., array[N])`). Return **two** values; the estimated integral and the estimated error on the integral."
   ]
  },
  {
   "cell_type": "code",
   "execution_count": 129,
   "metadata": {},
   "outputs": [],
   "source": [
    "def mc_integrate(f, N, samples, ranges):\n",
    "    '''\n",
    "    Integrate an ND function with a set of sampled MC points.\n",
    "    \n",
    "    Parameters\n",
    "    ----------\n",
    "    f : callable\n",
    "        The function to integrate. The function should take N\n",
    "        values (possibly equal length arrays).\n",
    "    N : int\n",
    "        The number of Dimensions\n",
    "    samples : int\n",
    "        The number of samples to integrate over\n",
    "    ranges : array[N,2]\n",
    "        An array with the min and max for each dimension.\n",
    "\n",
    "    Returns\n",
    "    -------\n",
    "    float\n",
    "        The total integral\n",
    "    float\n",
    "        The estimated error = relative error * the total integral.\n",
    "    '''\n",
    "    \n",
    "    ranges = np.asarray(ranges) # Just making sure ranges is an array\n",
    "    # Hint: You can turn a 1D array, such as arr = array([a, b]) into a 2D array\n",
    "    # with arr[:,np.newaxis] or arr[:,None] or arr.reshape(2,1) or arr.reshape(-1,1)\n",
    "    \n",
    "    # Our definition of ranges matches what you find in Scipy, and is natural to type,\n",
    "    # but is a but less natural to use, for example:\n",
    "    widths = ranges[:,1] + ranges[:,0]\n",
    "    \n",
    "\n",
    "    #Creates range of values\n",
    "    ax = []\n",
    "    for i in range(0,N):\n",
    "        new = np.random.uniform(ranges[i,0],ranges[i,1],samples)\n",
    "        ax.append(new)\n",
    "    ax = np.asarray(ax)\n",
    "    \n",
    "\n",
    "    #Uses Mean Value theorem to find total integral (assuming continuous from a -> b)\n",
    "    I = np.mean(f(*ax))\n",
    "\n",
    "    #Gets Actual from Scipy to find Error Value\n",
    "    integ = integrate.nquad(f,[*ranges])\n",
    "    actual = integ[0]\n",
    "\n",
    "    #Estimated Error = Relative Error * Total Integral\n",
    "    e = abs(I-actual)/actual\n",
    "    e = I * e\n",
    "\n",
    "\n",
    "    return I,e"
   ]
  },
  {
   "cell_type": "code",
   "execution_count": 146,
   "metadata": {},
   "outputs": [],
   "source": [
    "def f(x,y,z):\n",
    "    return x + y + z"
   ]
  },
  {
   "cell_type": "code",
   "execution_count": 162,
   "metadata": {
    "tags": []
   },
   "outputs": [
    {
     "output_type": "stream",
     "name": "stdout",
     "text": "1.499556103795208 0.00044376484223148575\n"
    }
   ],
   "source": [
    "integral, error = mc_integrate(f, 3, 100_000, [[0,1],[0,1],[0,1]])\n",
    "print(integral, error)"
   ]
  },
  {
   "cell_type": "markdown",
   "metadata": {},
   "source": [
    "#### For comparison, we could use NQuad from Scipy:"
   ]
  },
  {
   "cell_type": "code",
   "execution_count": 109,
   "metadata": {},
   "outputs": [],
   "source": [
    "from scipy import integrate"
   ]
  },
  {
   "cell_type": "code",
   "execution_count": 149,
   "metadata": {},
   "outputs": [
    {
     "output_type": "execute_result",
     "data": {
      "text/plain": "(1.5, 2.7707360439619496e-14)"
     },
     "metadata": {},
     "execution_count": 149
    }
   ],
   "source": [
    "integrate.nquad(f, [[0,1],[0,1],[0,1]])"
   ]
  },
  {
   "cell_type": "markdown",
   "metadata": {},
   "source": [
    "# Problem 3: Second derivatives"
   ]
  },
  {
   "cell_type": "markdown",
   "metadata": {},
   "source": [
    "Write a function that calculates:\n",
    "\n",
    "$$\n",
    "\\frac{d^2 f(t)}{dt^2} \\Biggr\\rvert_\\mathrm{cd}\n",
    "=\n",
    "\\frac{\n",
    "\\left[\n",
    "f(t + h) - f(t)\n",
    "\\right] - \\left[\n",
    "f(t) - f(t - h)\n",
    "\\right]\n",
    "}{h^2}\n",
    "$$\n",
    "\n",
    "(The notes in class had a typo, fixed here.) Write a nice docstring as well."
   ]
  },
  {
   "cell_type": "code",
   "execution_count": 163,
   "metadata": {},
   "outputs": [],
   "source": [
    "def d2fdt2(f, t, h):\n",
    "    '''\n",
    "        Calculates 2nd Derivative of Given Function at a value.\n",
    "        ------\n",
    "        f = function to derive\n",
    "        t = single point 't' to derive at\n",
    "        h = distance to next point/accuracy of the derivation\n",
    "        ------\n",
    "    '''\n",
    "    forw = f((t+h))-f(t)\n",
    "    back = f(t)-f((t-h))\n",
    "\n",
    "    deriv2 = (forw-back)/h**2\n",
    "\n",
    "    return deriv2"
   ]
  },
  {
   "cell_type": "markdown",
   "metadata": {},
   "source": [
    "Test your `d2fdt2` function on a function that you know the derivative for."
   ]
  },
  {
   "cell_type": "code",
   "execution_count": 169,
   "metadata": {},
   "outputs": [],
   "source": [
    "def f(t):\n",
    "    return t**3"
   ]
  },
  {
   "cell_type": "code",
   "execution_count": 174,
   "metadata": {
    "tags": []
   },
   "outputs": [
    {
     "output_type": "stream",
     "name": "stdout",
     "text": "12.000000000000009\n"
    }
   ],
   "source": [
    "t = 2\n",
    "h = .1\n",
    "derivate2order = d2fdt2(f,t,h)\n",
    "assert np.isclose(derivate2order,(6*t))\n",
    "print(derivate2order)"
   ]
  }
 ],
 "metadata": {
  "language_info": {
   "codemirror_mode": {
    "name": "ipython",
    "version": 3
   },
   "file_extension": ".py",
   "mimetype": "text/x-python",
   "name": "python",
   "nbconvert_exporter": "python",
   "pygments_lexer": "ipython3",
   "version": "3.8.5-final"
  },
  "kernelspec": {
   "name": "Python 3.8.5 32-bit",
   "display_name": "Python 3.8.5 32-bit",
   "metadata": {
    "interpreter": {
     "hash": "4fe423c96aa21f041534bead582c2e6c3f42ab46597860deda9051867850283b"
    }
   }
  }
 },
 "nbformat": 4,
 "nbformat_minor": 2
}